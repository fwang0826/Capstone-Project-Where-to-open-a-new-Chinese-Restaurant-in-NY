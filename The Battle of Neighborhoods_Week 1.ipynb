{
 "cells": [
  {
   "cell_type": "markdown",
   "metadata": {},
   "source": [
    "# Where to open a new Chinese Restaurant in New York City"
   ]
  },
  {
   "cell_type": "code",
   "execution_count": null,
   "metadata": {},
   "outputs": [],
   "source": []
  },
  {
   "cell_type": "markdown",
   "metadata": {},
   "source": [
    "\n",
    "\n",
    "\n",
    "## Introduction/Business Problem"
   ]
  },
  {
   "cell_type": "markdown",
   "metadata": {},
   "source": [
    "### I want to pick a location in New York City to open a new Chinese Restaurant:\n",
    "1. I want to know demographic information of New York City's 5 Borough.\n",
    "2. Pick a Borough with high-Asian percentage. Because Asians has more opportunities to become loyalty customers\n",
    "3. In the Borough picked, I would like to know the detailed information of each neighborhood within the Borough. Because my understanding is in NY, every neighborhood has main function, like living, dining, shopping, etc.I want to pick a neighborhood for dining.\n",
    "4. Competition Analysis. In the top dining neighborhoods, will consider: If the diverse restaurants are acceptable? If the competition of Chinese Restaurant was already very stiff."
   ]
  },
  {
   "cell_type": "code",
   "execution_count": null,
   "metadata": {},
   "outputs": [],
   "source": []
  },
  {
   "cell_type": "markdown",
   "metadata": {},
   "source": [
    "## Data will be used"
   ]
  },
  {
   "cell_type": "markdown",
   "metadata": {},
   "source": [
    "###\n",
    "1. \"New York_zip to borough mapping file\" from:https://www.kaggle.com/kimjinyoung/nyc-borough-zip\n",
    "2. \"New York zip code level Demographic Information\" from: https://data.cityofnewyork.us/City-Government/Demographic-Statistics-By-Zip-Code/kku6-nxdu\n",
    "3. \"a dataset that contains the 5 boroughs and the neighborhoods that exist in each borough as well as the the latitude and logitude coordinates of each neighborhood.\" from:https://cocl.us/new_york_dataset\n",
    "4. \"FourSquare API data to know the specific venues in each Neighborhood\"  "
   ]
  },
  {
   "cell_type": "code",
   "execution_count": null,
   "metadata": {},
   "outputs": [],
   "source": []
  }
 ],
 "metadata": {
  "kernelspec": {
   "display_name": "Python",
   "language": "python",
   "name": "conda-env-python-py"
  },
  "language_info": {
   "codemirror_mode": {
    "name": "ipython",
    "version": 3
   },
   "file_extension": ".py",
   "mimetype": "text/x-python",
   "name": "python",
   "nbconvert_exporter": "python",
   "pygments_lexer": "ipython3",
   "version": "3.6.10"
  }
 },
 "nbformat": 4,
 "nbformat_minor": 4
}
